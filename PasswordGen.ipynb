{
 "cells": [
  {
   "cell_type": "markdown",
   "metadata": {},
   "source": [
    "### Initialization of different required variables to genereate Password!"
   ]
  },
  {
   "cell_type": "code",
   "execution_count": 1,
   "metadata": {},
   "outputs": [],
   "source": [
    "# Create a list of numbers 0 to 9\n",
    "number=[0,1,2,3,4,5,6,7,8,9]\n",
    "\n",
    "# Create a list of alphabets a to z\n",
    "stringlower=['a','b','c','d','e','f','g','h','i','j','k','l','m','n','o','p','q','r','s','t','u','v','w','x','y','z']\n",
    "\n",
    "# Create a list of ALPHABETS A TO Z\n",
    "stringupper=[each.upper() for each in stringlower] # List Comprehension to convert lower to upper\n",
    "\n",
    "# Create a list of special character\n",
    "spechar=['@','#']"
   ]
  },
  {
   "cell_type": "markdown",
   "metadata": {},
   "source": [
    "### Import Random with Alis rd"
   ]
  },
  {
   "cell_type": "code",
   "execution_count": 2,
   "metadata": {},
   "outputs": [],
   "source": [
    "import random as rd"
   ]
  },
  {
   "cell_type": "markdown",
   "metadata": {},
   "source": [
    "### Create pwdGenerator function to `Generate Random Password!`"
   ]
  },
  {
   "cell_type": "code",
   "execution_count": 3,
   "metadata": {},
   "outputs": [],
   "source": [
    "# function to generate password \n",
    "def pwdGenerator(x):\n",
    "    i=0\n",
    "    password=''\n",
    "    while(i<x):\n",
    "        password+=rd.choice(stringlower)#random.choice take list and return a value\n",
    "        i+=1\n",
    "        if(i<x):\n",
    "            password+=rd.choice(stringupper)\n",
    "            i+=1\n",
    "        else:\n",
    "            break\n",
    "        if(i<x):\n",
    "            password+=str(rd.choice(number))\n",
    "            i+=1\n",
    "        else:\n",
    "            break\n",
    "        if(i<x):\n",
    "            password+=rd.choice(spechar)\n",
    "            i+=1\n",
    "        else:\n",
    "            break\n",
    "    return password"
   ]
  },
  {
   "cell_type": "markdown",
   "metadata": {},
   "source": [
    "### Call the function with argument(`'Length of password you want',Must be a int value`)"
   ]
  },
  {
   "cell_type": "code",
   "execution_count": 4,
   "metadata": {},
   "outputs": [],
   "source": [
    "# Save return of function in password variable\n",
    "password=pwdGenerator(6)"
   ]
  },
  {
   "cell_type": "markdown",
   "metadata": {},
   "source": [
    "### Show the Generated Password!"
   ]
  },
  {
   "cell_type": "code",
   "execution_count": 5,
   "metadata": {},
   "outputs": [
    {
     "data": {
      "text/plain": [
       "'lQ4#kZ'"
      ]
     },
     "execution_count": 5,
     "metadata": {},
     "output_type": "execute_result"
    }
   ],
   "source": [
    "password"
   ]
  },
  {
   "cell_type": "markdown",
   "metadata": {},
   "source": [
    "### Create a function shufflePwd to shuffle the generated password. \n",
    "### `To change the pattern of Generated Password.`"
   ]
  },
  {
   "cell_type": "code",
   "execution_count": 6,
   "metadata": {},
   "outputs": [],
   "source": [
    "def shufflePwd(genPwd):\n",
    "    s=list(genPwd)\n",
    "    rd.shuffle(s)#rd.shuffle take list as argument and shuffle the value in it.\n",
    "    pwd=''.join(s)\n",
    "    return pwd"
   ]
  },
  {
   "cell_type": "markdown",
   "metadata": {},
   "source": [
    "### Call function `shufflePwd` with argument(`generated_password`)"
   ]
  },
  {
   "cell_type": "code",
   "execution_count": 7,
   "metadata": {},
   "outputs": [],
   "source": [
    "# Save the function return in Final_Pass\n",
    "Final_Pass=shufflePwd(password)"
   ]
  },
  {
   "cell_type": "markdown",
   "metadata": {},
   "source": [
    "### Show the Final Password"
   ]
  },
  {
   "cell_type": "code",
   "execution_count": 8,
   "metadata": {},
   "outputs": [
    {
     "data": {
      "text/plain": [
       "'lZk4#Q'"
      ]
     },
     "execution_count": 8,
     "metadata": {},
     "output_type": "execute_result"
    }
   ],
   "source": [
    "Final_Pass"
   ]
  }
 ],
 "metadata": {
  "kernelspec": {
   "display_name": "Python 3",
   "language": "python",
   "name": "python3"
  },
  "language_info": {
   "codemirror_mode": {
    "name": "ipython",
    "version": 3
   },
   "file_extension": ".py",
   "mimetype": "text/x-python",
   "name": "python",
   "nbconvert_exporter": "python",
   "pygments_lexer": "ipython3",
   "version": "3.7.4"
  }
 },
 "nbformat": 4,
 "nbformat_minor": 2
}
